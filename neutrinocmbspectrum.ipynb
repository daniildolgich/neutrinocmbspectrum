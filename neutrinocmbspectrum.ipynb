{
 "cells": [
  {
   "cell_type": "code",
   "execution_count": 27,
   "metadata": {
    "pycharm": {
     "is_executing": false,
     "name": "#%%\n"
    }
   },
   "outputs": [
    {
     "name": "stdout",
     "output_type": "stream",
     "text": [
      "('omnuh2=', 0.00064)\n"
     ]
    }
   ],
   "source": [
    "import camb\n",
    "import matplotlib\n",
    "import matplotlib.pyplot as plt\n",
    "import numpy as np\n",
    "from ipywidgets import interact\n",
    "import ipywidgets as widgets\n",
    "\n",
    "params = camb.read_ini('camb_interface/camb_params.ini')\n",
    "\n",
    "print('omnuh2=', params.omnuh2)"
   ]
  },
  {
   "cell_type": "code",
   "execution_count": 28,
   "metadata": {
    "pycharm": {
     "is_executing": false,
     "name": "#%%\n"
    }
   },
   "outputs": [],
   "source": [
    "%matplotlib inline\n",
    "def camb_plot(ombh2, omch2, omnuh2):\n",
    "    params.ombh2 = ombh2\n",
    "    params.omch2 = omch2\n",
    "    params.omnuh2 = omnuh2\n",
    "    results = camb.get_results(params)\n",
    "\n",
    "    unlensed = results.get_cmb_unlensed_scalar_array_dict(lmax=2200, CMB_unit='muK')\n",
    "\n",
    "    tt = unlensed['TxT']\n",
    "    ee = unlensed['ExE']\n",
    "    te = unlensed['TxE']\n",
    "\n",
    "    fig, ax = plt.subplots()\n",
    "    tt = np.delete(tt, [0, 1])\n",
    "    ax.plot(tt, linewidth=1)\n",
    "    ax.set_xlim([None, 2500])\n",
    "    ax.set_ylim([None, 7000])\n",
    "    ax.set(xlabel='Multipole Moment (l)', ylabel='CMB_Unit (uK)', title='Cl TT CMB Power Spectrum')\n",
    "    fig.savefig(\"Cl_TT.pdf\")\n",
    "    plt.show()\n"
   ]
  },
  {
   "cell_type": "code",
   "execution_count": 29,
   "metadata": {
    "pycharm": {
     "is_executing": false,
     "name": "#%%\n"
    }
   },
   "outputs": [
    {
     "data": {
      "application/vnd.jupyter.widget-view+json": {
       "model_id": "ddadf3f6c1fb419c8fab9fa538fad9ad",
       "version_major": 2,
       "version_minor": 0
      },
      "text/plain": [
       "aW50ZXJhY3RpdmUoY2hpbGRyZW49KEZsb2F0U2xpZGVyKHZhbHVlPTAuMDIyNiwgZGVzY3JpcHRpb249dSdvbWJoMicsIG1heD0xLjAsIHJlYWRvdXRfZm9ybWF0PXUnLjVmJywgc3RlcD0wLjDigKY=\n"
      ]
     },
     "metadata": {},
     "output_type": "display_data"
    },
    {
     "data": {
      "text/plain": [
       "<function __main__.camb_plot>"
      ]
     },
     "execution_count": 29,
     "metadata": {},
     "output_type": "execute_result"
    }
   ],
   "source": [
    "interact(camb_plot, ombh2=widgets.FloatSlider(value=params.ombh2, min=0, max=1, step=0.001, readout_format='.5f'), omch2=widgets.FloatSlider(value=params.omch2, min=0, max=1, step=0.001, readout_format='.5f'), omnuh2=widgets.FloatSlider(value=params.omnuh2, min=0, max=1, step=0.001, readout_format='.5f'))"
   ]
  },
  {
   "cell_type": "code",
   "execution_count": null,
   "metadata": {},
   "outputs": [],
   "source": []
  }
 ],
 "metadata": {
  "kernelspec": {
   "display_name": "Python 2",
   "language": "python",
   "name": "python2"
  },
  "language_info": {
   "codemirror_mode": {
    "name": "ipython",
    "version": 2
   },
   "file_extension": ".py",
   "mimetype": "text/x-python",
   "name": "python",
   "nbconvert_exporter": "python",
   "pygments_lexer": "ipython2",
   "version": "2.7.16"
  },
  "pycharm": {
   "stem_cell": {
    "cell_type": "raw",
    "metadata": {
     "collapsed": false
    },
    "source": []
   }
  }
 },
 "nbformat": 4,
 "nbformat_minor": 2
}
