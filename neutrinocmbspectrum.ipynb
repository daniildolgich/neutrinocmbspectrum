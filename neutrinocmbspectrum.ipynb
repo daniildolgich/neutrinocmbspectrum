{
 "cells": [
  {
   "cell_type": "markdown",
   "metadata": {},
   "source": [
    "# CMB Simulation of Unlensed and Lensed Outputs"
   ]
  },
  {
   "cell_type": "code",
   "execution_count": 1,
   "metadata": {
    "pycharm": {
     "is_executing": false,
     "name": "#%%\n"
    }
   },
   "outputs": [],
   "source": [
    "import camb\n",
    "import matplotlib\n",
    "import matplotlib.pyplot as plt\n",
    "import numpy as np\n",
    "from ipywidgets import interact\n",
    "import ipywidgets as widgets\n",
    "\n",
    "params = camb.read_ini('camb_interface/camb_params.ini')"
   ]
  },
  {
   "cell_type": "markdown",
   "metadata": {},
   "source": [
    "## TxT Plot"
   ]
  },
  {
   "cell_type": "code",
   "execution_count": 2,
   "metadata": {
    "pycharm": {
     "is_executing": false,
     "name": "#%%\n"
    }
   },
   "outputs": [],
   "source": [
    "%matplotlib inline\n",
    "def camb_plot_tt(ombh2, omch2, omnuh2):\n",
    "    params.ombh2 = ombh2\n",
    "    params.omch2 = omch2\n",
    "    params.omnuh2 = omnuh2\n",
    "    results = camb.get_results(params)\n",
    "\n",
    "    unlensed = results.get_cmb_unlensed_scalar_array_dict(lmax=2200, CMB_unit='muK')\n",
    "\n",
    "    tt = unlensed['TxT']\n",
    "\n",
    "    fig, ax = plt.subplots()\n",
    "    tt = np.delete(tt, [0, 1])\n",
    "    ax.plot(tt, linewidth=1)\n",
    "    ax.set_xlim([None, 2500])\n",
    "    ax.set_ylim([None, 7000])\n",
    "    ax.set(xlabel='Multipole Moment (l)', ylabel='CMB_Unit (uK)', title='Cl TT CMB Power Spectrum')\n",
    "    fig.savefig(\"Cl-TT-vs-l.pdf\")\n",
    "    plt.show()\n"
   ]
  },
  {
   "cell_type": "code",
   "execution_count": 3,
   "metadata": {
    "pycharm": {
     "is_executing": false,
     "name": "#%%\n"
    }
   },
   "outputs": [
    {
     "data": {
      "application/vnd.jupyter.widget-view+json": {
       "model_id": "3cff869cdd6b4a819ed044aaef96f42e",
       "version_major": 2,
       "version_minor": 0
      },
      "text/plain": [
       "aW50ZXJhY3RpdmUoY2hpbGRyZW49KEZsb2F0U2xpZGVyKHZhbHVlPTAuMDIyNiwgZGVzY3JpcHRpb249dSdvbWJoMicsIG1heD0xLjAsIHJlYWRvdXRfZm9ybWF0PXUnLjVmJywgc3RlcD0wLjDigKY=\n"
      ]
     },
     "metadata": {},
     "output_type": "display_data"
    }
   ],
   "source": [
    "params = camb.read_ini('camb_interface/camb_params.ini')\n",
    "interact(camb_plot_tt, ombh2=widgets.FloatSlider(value=params.ombh2, min=0, max=1, step=0.001, readout_format='.5f'), omch2=widgets.FloatSlider(value=params.omch2, min=0, max=1, step=0.001, readout_format='.5f'), omnuh2=widgets.FloatSlider(value=params.omnuh2, min=0, max=1, step=0.001, readout_format='.5f'));"
   ]
  },
  {
   "cell_type": "markdown",
   "metadata": {},
   "source": [
    "## ExE Plot"
   ]
  },
  {
   "cell_type": "code",
   "execution_count": 4,
   "metadata": {},
   "outputs": [],
   "source": [
    "%matplotlib inline\n",
    "def camb_plot_ee(ombh2, omch2, omnuh2):\n",
    "    params.ombh2 = ombh2\n",
    "    params.omch2 = omch2\n",
    "    params.omnuh2 = omnuh2\n",
    "    results = camb.get_results(params)\n",
    "\n",
    "    unlensed = results.get_cmb_unlensed_scalar_array_dict(lmax=2200, CMB_unit='muK')\n",
    "\n",
    "    ee = unlensed['ExE']\n",
    "\n",
    "    fig, ax = plt.subplots()\n",
    "    ee = np.delete(ee, [0, 1])\n",
    "    ax.plot(ee, linewidth=1)\n",
    "    ax.set_xlim([None, 2500])\n",
    "    ax.set_ylim([None, 50])\n",
    "    ax.set(xlabel='Multipole Moment (l)', ylabel='CMB_Unit (uK)', title='Cl EE CMB Power Spectrum')\n",
    "    fig.savefig(\"Cl-EE-vs-l.pdf\")\n",
    "    plt.show()\n"
   ]
  },
  {
   "cell_type": "code",
   "execution_count": 5,
   "metadata": {},
   "outputs": [
    {
     "data": {
      "application/vnd.jupyter.widget-view+json": {
       "model_id": "cb5750ac64ae42bfbe275cda2fd73120",
       "version_major": 2,
       "version_minor": 0
      },
      "text/plain": [
       "aW50ZXJhY3RpdmUoY2hpbGRyZW49KEZsb2F0U2xpZGVyKHZhbHVlPTAuMDIyNiwgZGVzY3JpcHRpb249dSdvbWJoMicsIG1heD0xLjAsIHJlYWRvdXRfZm9ybWF0PXUnLjVmJywgc3RlcD0wLjDigKY=\n"
      ]
     },
     "metadata": {},
     "output_type": "display_data"
    }
   ],
   "source": [
    "params = camb.read_ini('camb_interface/camb_params.ini')\n",
    "interact(camb_plot_ee, ombh2=widgets.FloatSlider(value=params.ombh2, min=0, max=1, step=0.001, readout_format='.5f'), omch2=widgets.FloatSlider(value=params.omch2, min=0, max=1, step=0.001, readout_format='.5f'), omnuh2=widgets.FloatSlider(value=params.omnuh2, min=0, max=1, step=0.001, readout_format='.5f'));"
   ]
  },
  {
   "cell_type": "markdown",
   "metadata": {},
   "source": [
    "## TxE Plot"
   ]
  },
  {
   "cell_type": "code",
   "execution_count": 6,
   "metadata": {},
   "outputs": [],
   "source": [
    "%matplotlib inline\n",
    "def camb_plot_te(ombh2, omch2, omnuh2):\n",
    "    params.ombh2 = ombh2\n",
    "    params.omch2 = omch2\n",
    "    params.omnuh2 = omnuh2\n",
    "    results = camb.get_results(params)\n",
    "\n",
    "    unlensed = results.get_cmb_unlensed_scalar_array_dict(lmax=2200, CMB_unit='muK')\n",
    "\n",
    "    te = unlensed['TxE']\n",
    "\n",
    "    fig, ax = plt.subplots()\n",
    "    te = np.delete(te, [0, 1])\n",
    "    ax.plot(te, linewidth=1)\n",
    "    ax.set_xlim([None, 2500])\n",
    "    ax.set_ylim([-150, 150])\n",
    "    ax.set(xlabel='Multipole Moment (l)', ylabel='CMB_Unit (uK)', title='Cl TE CMB Power Spectrum')\n",
    "    fig.savefig(\"Cl-TE-vs-l.pdf\")\n",
    "    plt.show()\n"
   ]
  },
  {
   "cell_type": "code",
   "execution_count": 7,
   "metadata": {
    "scrolled": false
   },
   "outputs": [
    {
     "data": {
      "application/vnd.jupyter.widget-view+json": {
       "model_id": "43bcb3c0dc7446638d9d491d0f50001d",
       "version_major": 2,
       "version_minor": 0
      },
      "text/plain": [
       "aW50ZXJhY3RpdmUoY2hpbGRyZW49KEZsb2F0U2xpZGVyKHZhbHVlPTAuMDIyNiwgZGVzY3JpcHRpb249dSdvbWJoMicsIG1heD0xLjAsIHJlYWRvdXRfZm9ybWF0PXUnLjVmJywgc3RlcD0wLjDigKY=\n"
      ]
     },
     "metadata": {},
     "output_type": "display_data"
    }
   ],
   "source": [
    "params = camb.read_ini('camb_interface/camb_params.ini')\n",
    "interact(camb_plot_te, ombh2=widgets.FloatSlider(value=params.ombh2, min=0, max=1, step=0.001, readout_format='.5f'), omch2=widgets.FloatSlider(value=params.omch2, min=0, max=1, step=0.001, readout_format='.5f'), omnuh2=widgets.FloatSlider(value=params.omnuh2, min=0, max=1, step=0.001, readout_format='.5f'));"
   ]
  },
  {
   "cell_type": "markdown",
   "metadata": {},
   "source": [
    "## Lensed TxT (Red)"
   ]
  },
  {
   "cell_type": "code",
   "execution_count": 8,
   "metadata": {},
   "outputs": [],
   "source": [
    "%matplotlib inline\n",
    "def camb_plot_lensed_tt(ombh2, omch2, omnuh2):\n",
    "    params.ombh2 = ombh2\n",
    "    params.omch2 = omch2\n",
    "    params.omnuh2 = omnuh2\n",
    "    results = camb.get_results(params)\n",
    "\n",
    "    unlensed = results.get_cmb_unlensed_scalar_array_dict(lmax=2200, CMB_unit='muK')\n",
    "\n",
    "    tt_unlensed = unlensed['TxT']\n",
    "\n",
    "    lensed = results.get_lensed_scalar_cls(lmax=2100, CMB_unit='muK')\n",
    "    transposed = np.transpose(lensed)\n",
    "\n",
    "    tt_lensed = transposed[0]\n",
    "    ee = transposed[1]\n",
    "    te = transposed[3]\n",
    "\n",
    "    fig, ax = plt.subplots()\n",
    "    tt_unlensed = np.delete(tt_unlensed, [0, 1])\n",
    "    tt_lensed = np.delete(tt_lensed, [0, 1])\n",
    "    ax.plot(tt_lensed, linewidth=1, color='red')\n",
    "    ax.plot(tt_unlensed, linewidth=1, color='blue')\n",
    "    ax.set_xlim([None, 2500])\n",
    "    ax.set_ylim([None, 7000])\n",
    "    ax.set(xlabel='Multipole Moment (l)', ylabel='CMB_Unit (uK)', title='Cl TT Lensed CMB Power Spectrum')\n",
    "    fig.savefig(\"Cl-TT-lensed-vs-l.pdf\")\n",
    "    plt.show()\n",
    "    "
   ]
  },
  {
   "cell_type": "code",
   "execution_count": 9,
   "metadata": {},
   "outputs": [
    {
     "data": {
      "application/vnd.jupyter.widget-view+json": {
       "model_id": "3a2594a9c8094ac8a2f75f23f42b10ed",
       "version_major": 2,
       "version_minor": 0
      },
      "text/plain": [
       "aW50ZXJhY3RpdmUoY2hpbGRyZW49KEZsb2F0U2xpZGVyKHZhbHVlPTAuMDIyNiwgZGVzY3JpcHRpb249dSdvbWJoMicsIG1heD0xLjAsIHJlYWRvdXRfZm9ybWF0PXUnLjVmJywgc3RlcD0wLjDigKY=\n"
      ]
     },
     "metadata": {},
     "output_type": "display_data"
    }
   ],
   "source": [
    "params = camb.read_ini('camb_interface/camb_params.ini')\n",
    "interact(camb_plot_lensed_tt, ombh2=widgets.FloatSlider(value=params.ombh2, min=0, max=1, step=0.001, readout_format='.5f'), omch2=widgets.FloatSlider(value=params.omch2, min=0, max=1, step=0.001, readout_format='.5f'), omnuh2=widgets.FloatSlider(value=params.omnuh2, min=0, max=1, step=0.001, readout_format='.5f'));"
   ]
  },
  {
   "cell_type": "markdown",
   "metadata": {},
   "source": [
    "## Lensed ExE (Red)"
   ]
  },
  {
   "cell_type": "code",
   "execution_count": 10,
   "metadata": {},
   "outputs": [],
   "source": [
    "%matplotlib inline\n",
    "def camb_plot_lensed_ee(ombh2, omch2, omnuh2):\n",
    "    params.ombh2 = ombh2\n",
    "    params.omch2 = omch2\n",
    "    params.omnuh2 = omnuh2\n",
    "    results = camb.get_results(params)\n",
    "\n",
    "    unlensed = results.get_cmb_unlensed_scalar_array_dict(lmax=2200, CMB_unit='muK')\n",
    "\n",
    "    ee_unlensed = unlensed['ExE']\n",
    "\n",
    "    lensed = results.get_lensed_scalar_cls(lmax=2100, CMB_unit='muK')\n",
    "    transposed = np.transpose(lensed)\n",
    "\n",
    "    tt_lensed = transposed[0]\n",
    "    ee_lensed = transposed[1]\n",
    "    te_lensed = transposed[3]\n",
    "\n",
    "    fig, ax = plt.subplots()\n",
    "    ee_unlensed = np.delete(ee_unlensed, [0, 1])\n",
    "    ee_lensed = np.delete(ee_lensed, [0, 1])\n",
    "    ax.plot(ee_lensed, linewidth=1, color='red')\n",
    "    ax.plot(ee_unlensed, linewidth=1, color='blue')\n",
    "    ax.set_xlim([None, 2500])\n",
    "    ax.set_ylim([None, 50])\n",
    "    ax.set(xlabel='Multipole Moment (l)', ylabel='CMB_Unit (uK)', title='Cl EE Lensed CMB Power Spectrum')\n",
    "    fig.savefig(\"Cl-EE-lensed-vs-l.pdf\")\n",
    "    plt.show()\n",
    "    "
   ]
  },
  {
   "cell_type": "code",
   "execution_count": 11,
   "metadata": {},
   "outputs": [
    {
     "data": {
      "application/vnd.jupyter.widget-view+json": {
       "model_id": "f8d1e5e5f6894815afbf03b8536c92a7",
       "version_major": 2,
       "version_minor": 0
      },
      "text/plain": [
       "aW50ZXJhY3RpdmUoY2hpbGRyZW49KEZsb2F0U2xpZGVyKHZhbHVlPTAuMDIyNiwgZGVzY3JpcHRpb249dSdvbWJoMicsIG1heD0xLjAsIHJlYWRvdXRfZm9ybWF0PXUnLjVmJywgc3RlcD0wLjDigKY=\n"
      ]
     },
     "metadata": {},
     "output_type": "display_data"
    }
   ],
   "source": [
    "params = camb.read_ini('camb_interface/camb_params.ini')\n",
    "interact(camb_plot_lensed_ee, ombh2=widgets.FloatSlider(value=params.ombh2, min=0, max=1, step=0.001, readout_format='.5f'), omch2=widgets.FloatSlider(value=params.omch2, min=0, max=1, step=0.001, readout_format='.5f'), omnuh2=widgets.FloatSlider(value=params.omnuh2, min=0, max=1, step=0.001, readout_format='.5f'));"
   ]
  },
  {
   "cell_type": "markdown",
   "metadata": {},
   "source": [
    "## Lensed TxE (Red)"
   ]
  },
  {
   "cell_type": "code",
   "execution_count": 12,
   "metadata": {},
   "outputs": [],
   "source": [
    "%matplotlib inline\n",
    "def camb_plot_lensed_te(ombh2, omch2, omnuh2):\n",
    "    params.ombh2 = ombh2\n",
    "    params.omch2 = omch2\n",
    "    params.omnuh2 = omnuh2\n",
    "    results = camb.get_results(params)\n",
    "\n",
    "    unlensed = results.get_cmb_unlensed_scalar_array_dict(lmax=2200, CMB_unit='muK')\n",
    "\n",
    "    te_unlensed = unlensed['TxE']\n",
    "\n",
    "    lensed = results.get_lensed_scalar_cls(lmax=2100, CMB_unit='muK')\n",
    "    transposed = np.transpose(lensed)\n",
    "\n",
    "    tt_lensed = transposed[0]\n",
    "    ee_lensed = transposed[1]\n",
    "    te_lensed = transposed[3]\n",
    "\n",
    "    fig, ax = plt.subplots()\n",
    "    te_unlensed = np.delete(te_unlensed, [0, 1])\n",
    "    te_lensed = np.delete(te_lensed, [0, 1])\n",
    "    ax.plot(te_lensed, linewidth=1, color='red')\n",
    "    ax.plot(te_unlensed, linewidth=1, color='blue')\n",
    "    ax.set_xlim([None, 2500])\n",
    "    ax.set_ylim([-150, 150])\n",
    "    ax.set(xlabel='Multipole Moment (l)', ylabel='CMB_Unit (uK)', title='Cl TE Lensed CMB Power Spectrum')\n",
    "    fig.savefig(\"Cl-TE-lensed-vs-l.pdf\")\n",
    "    plt.show()\n",
    "    "
   ]
  },
  {
   "cell_type": "code",
   "execution_count": 13,
   "metadata": {},
   "outputs": [
    {
     "data": {
      "application/vnd.jupyter.widget-view+json": {
       "model_id": "5dc7cf241b164109a08cb67e18bb4884",
       "version_major": 2,
       "version_minor": 0
      },
      "text/plain": [
       "aW50ZXJhY3RpdmUoY2hpbGRyZW49KEZsb2F0U2xpZGVyKHZhbHVlPTAuMDIyNiwgZGVzY3JpcHRpb249dSdvbWJoMicsIG1heD0xLjAsIHJlYWRvdXRfZm9ybWF0PXUnLjVmJywgc3RlcD0wLjDigKY=\n"
      ]
     },
     "metadata": {},
     "output_type": "display_data"
    }
   ],
   "source": [
    "params = camb.read_ini('camb_interface/camb_params.ini')\n",
    "interact(camb_plot_lensed_te, ombh2=widgets.FloatSlider(value=params.ombh2, min=0, max=1, step=0.001, readout_format='.5f'), omch2=widgets.FloatSlider(value=params.omch2, min=0, max=1, step=0.001, readout_format='.5f'), omnuh2=widgets.FloatSlider(value=params.omnuh2, min=0, max=1, step=0.001, readout_format='.5f'));"
   ]
  },
  {
   "cell_type": "code",
   "execution_count": null,
   "metadata": {},
   "outputs": [],
   "source": []
  }
 ],
 "metadata": {
  "kernelspec": {
   "display_name": "Python 2",
   "language": "python",
   "name": "python2"
  },
  "language_info": {
   "codemirror_mode": {
    "name": "ipython",
    "version": 2
   },
   "file_extension": ".py",
   "mimetype": "text/x-python",
   "name": "python",
   "nbconvert_exporter": "python",
   "pygments_lexer": "ipython2",
   "version": "2.7.16"
  },
  "pycharm": {
   "stem_cell": {
    "cell_type": "raw",
    "metadata": {
     "collapsed": false
    },
    "source": []
   }
  }
 },
 "nbformat": 4,
 "nbformat_minor": 2
}
